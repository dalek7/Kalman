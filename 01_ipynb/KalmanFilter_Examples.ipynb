{
 "cells": [
  {
   "cell_type": "markdown",
   "metadata": {},
   "source": [
    "## Kalman filter comparison"
   ]
  },
  {
   "cell_type": "markdown",
   "metadata": {},
   "source": [
    "### 1) Mouse Example\n",
    "* KF = KalmanFilter(4, 2, 0); // KalmanFilter (int dynamParams, int measureParams, int controlParams=0,..)\n",
    "* Observation : Position (x, y)\n",
    "* State prediction:  Linear target motion"
   ]
  },
  {
   "cell_type": "markdown",
   "metadata": {},
   "source": [
    "* Transition Matrix\n",
    "\n",
    "= Description of dynamics\n",
    "\n",
    "* Transition Matrix, $A$\n",
    "```\n",
    "KF.transitionMatrix (4x4)\n",
    "1.00    0.00    1.50    0.00\n",
    "0.00    1.00    0.00    1.50\n",
    "0.00    0.00    1.00    0.00\n",
    "0.00    0.00    0.00    1.00\n",
    "```\n",
    "\n",
    "* Measurement Matrix, $H$\n",
    "```\n",
    "KF.measurementMatrix (2x4)\n",
    "1.00    0.00    0.00    0.00\n",
    "0.00    1.00    0.00    0.00\n",
    "```"
   ]
  },
  {
   "cell_type": "markdown",
   "metadata": {},
   "source": [
    "### 2) Velocity model example\n",
    "* Kalman-Simple-CV.ipynb"
   ]
  },
  {
   "cell_type": "markdown",
   "metadata": {},
   "source": [
    "A = np.matrix([[1.0, 0.0, dt, 0.0],\n",
    "              [0.0, 1.0, 0.0, dt],\n",
    "              [0.0, 0.0, 1.0, 0.0],\n",
    "              [0.0, 0.0, 0.0, 1.0]])"
   ]
  },
  {
   "cell_type": "markdown",
   "metadata": {},
   "source": [
    "* Measurement Matrix $H$\n",
    "\n",
    "directly measure the Velocity $\\dot x$ and $\\dot y$\n",
    "\n",
    "$$H = \\begin{bmatrix}0 & 0 & 1 & 0 \\\\ 0 & 0 & 0 & 1\\end{bmatrix}$$"
   ]
  },
  {
   "cell_type": "markdown",
   "metadata": {},
   "source": [
    "### 3) OpenCV (1-D Tracking of rotating point)"
   ]
  },
  {
   "cell_type": "markdown",
   "metadata": {},
   "source": [
    "* Transition Matrix, $A$\n",
    "\n",
    "KF.transitionMatrix\n",
    " [1, 1;\n",
    "  0, 1]\n",
    "\n",
    "$$A = \\begin{bmatrix} 1 & 1 \\\\ 0 & 1\\end{bmatrix}$$\n"
   ]
  },
  {
   "cell_type": "markdown",
   "metadata": {},
   "source": [
    "* Measurement Matrix, $H$\n",
    "\n",
    "KF.measurementMatrix\n",
    "\n",
    "=  [1, 0]\n",
    "\n",
    "$$H = \\begin{bmatrix} 1 & 0 \\end{bmatrix}$$\n"
   ]
  },
  {
   "cell_type": "code",
   "execution_count": null,
   "metadata": {},
   "outputs": [],
   "source": []
  }
 ],
 "metadata": {
  "kernelspec": {
   "display_name": "Python 2",
   "language": "python",
   "name": "python2"
  },
  "language_info": {
   "codemirror_mode": {
    "name": "ipython",
    "version": 2
   },
   "file_extension": ".py",
   "mimetype": "text/x-python",
   "name": "python",
   "nbconvert_exporter": "python",
   "pygments_lexer": "ipython2",
   "version": "2.7.12"
  }
 },
 "nbformat": 4,
 "nbformat_minor": 2
}
